{
 "cells": [
  {
   "cell_type": "code",
   "execution_count": 1,
   "outputs": [
    {
     "name": "stderr",
     "output_type": "stream",
     "text": [
      "/Users/janburakowski/anaconda3/lib/python3.11/site-packages/tqdm/auto.py:21: TqdmWarning: IProgress not found. Please update jupyter and ipywidgets. See https://ipywidgets.readthedocs.io/en/stable/user_install.html\n",
      "  from .autonotebook import tqdm as notebook_tqdm\n"
     ]
    }
   ],
   "source": [
    "import torch\n",
    "import torch.nn as nn\n",
    "import torch.optim as optim\n",
    "from torchvision import datasets, transforms\n",
    "import matplotlib.pyplot as plt"
   ],
   "metadata": {
    "collapsed": false,
    "ExecuteTime": {
     "end_time": "2025-04-16T19:39:10.241882Z",
     "start_time": "2025-04-16T19:39:07.687334Z"
    }
   },
   "id": "e30af5b2f7f84a6d"
  },
  {
   "cell_type": "markdown",
   "source": [
    "## Loading the data\n",
    "I load the MNIST dataset and normalize the pixel values to be between -1 and 1 because I am going to use Tanh as an activation function. Then I split the dataset to train and test sets."
   ],
   "metadata": {
    "collapsed": false
   },
   "id": "c1594890fc2288bc"
  },
  {
   "cell_type": "code",
   "execution_count": 2,
   "outputs": [],
   "source": [
    "\n",
    "transform = transforms.Compose([\n",
    "    transforms.ToTensor(),\n",
    "    transforms.Normalize((0.5,), (0.5,))\n",
    "])\n",
    "mnist_train = datasets.MNIST(root = './data', train = True, download = True, transform = transform)\n",
    "train_loader = torch.utils.data.DataLoader(mnist_train, batch_size = 100, shuffle = True)\n"
   ],
   "metadata": {
    "collapsed": false,
    "ExecuteTime": {
     "end_time": "2025-04-16T19:39:10.281334Z",
     "start_time": "2025-04-16T19:39:10.243171Z"
    }
   },
   "id": "f65bcd6a96b8e755"
  },
  {
   "cell_type": "markdown",
   "source": [
    "## Generator\n",
    "I rewrite the architecture described in the paper in PyTorch (“We trained a multilayer perceptron with 100 input units, two hidden layers of 1200 ReLU units each, and an output layer with 784 sigmoid units.”), where I initialize the pass by creating a noise vector. I use Tanh function instead of Sigmoid for stability (inspired by - __[link to the blog post on towardsdatascience](https://towardsdatascience.com/batch-norm-explained-visually-how-it-works-and-why-neural-networks-need-it-b18919692739/)__ )"
   ],
   "metadata": {
    "collapsed": false
   },
   "id": "30672574d052cb96"
  },
  {
   "cell_type": "code",
   "execution_count": 3,
   "outputs": [],
   "source": [
    "\n",
    "class Generator(nn.Module):\n",
    "    def __init__(self, noise_dim=100):\n",
    "        super(Generator, self).__init__()\n",
    "        self.hidden1 = nn.Linear(noise_dim, 1200)\n",
    "        self.hidden2 = nn.Linear(1200, 1200)\n",
    "        self.output = nn.Linear(1200, 784)\n",
    "        self.relu = nn.ReLU()\n",
    "        self.tanh = nn.Tanh()\n",
    "\n",
    "    def forward(self, z):\n",
    "        x = self.relu(self.hidden1(z))\n",
    "        x = self.relu(self.hidden2(x))\n",
    "        x = self.tanh(self.output(x))\n",
    "        return x"
   ],
   "metadata": {
    "collapsed": false,
    "ExecuteTime": {
     "end_time": "2025-04-16T19:39:10.284520Z",
     "start_time": "2025-04-16T19:39:10.282449Z"
    }
   },
   "id": "d78bc4eba44fb0be"
  },
  {
   "cell_type": "markdown",
   "source": [
    "## Discriminator\n",
    "For the discriminator I also rewrite te architecture from the architecture, with a slight change - LeakyReLU instead of maxout to avoid the vanishing gradient problem."
   ],
   "metadata": {
    "collapsed": false
   },
   "id": "d9aa33e8a56b2a1a"
  },
  {
   "cell_type": "code",
   "execution_count": 4,
   "outputs": [],
   "source": [
    "class Discriminator(nn.Module):\n",
    "    def __init__(self):\n",
    "        super(Discriminator, self).__init__()\n",
    "        self.hidden1 = nn.Linear(784, 240)\n",
    "        self.hidden2 = nn.Linear(240, 240)\n",
    "        self.output = nn.Linear(240, 1)\n",
    "        self.leaky_relu = nn.LeakyReLU(0.2)\n",
    "        self.sigmoid = nn.Sigmoid()\n",
    "\n",
    "    def forward(self, x):\n",
    "        x = x.view(x.size(0), -1)\n",
    "        x = self.leaky_relu(self.hidden1(x))\n",
    "        x = self.leaky_relu(self.hidden2(x))\n",
    "        x = self.sigmoid(self.output(x))\n",
    "        return x"
   ],
   "metadata": {
    "collapsed": false,
    "ExecuteTime": {
     "end_time": "2025-04-16T19:39:10.288048Z",
     "start_time": "2025-04-16T19:39:10.286509Z"
    }
   },
   "id": "275c10ff99359815"
  }
 ],
 "metadata": {
  "kernelspec": {
   "display_name": "Python 3",
   "language": "python",
   "name": "python3"
  },
  "language_info": {
   "codemirror_mode": {
    "name": "ipython",
    "version": 2
   },
   "file_extension": ".py",
   "mimetype": "text/x-python",
   "name": "python",
   "nbconvert_exporter": "python",
   "pygments_lexer": "ipython2",
   "version": "2.7.6"
  }
 },
 "nbformat": 4,
 "nbformat_minor": 5
}
